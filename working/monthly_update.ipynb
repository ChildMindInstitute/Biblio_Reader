{
 "cells": [
  {
   "cell_type": "markdown",
   "metadata": {},
   "source": [
    "# Monthly Update\n",
    "October 2, 2017"
   ]
  },
  {
   "cell_type": "code",
   "execution_count": 1,
   "metadata": {
    "collapsed": true
   },
   "outputs": [],
   "source": [
    "%load_ext autoreload\n",
    "%autoreload 2"
   ]
  },
  {
   "cell_type": "code",
   "execution_count": 2,
   "metadata": {
    "collapsed": true
   },
   "outputs": [],
   "source": [
    "from datetime import date\n",
    "import numpy as np\n",
    "import os\n",
    "import pandas as pd\n",
    "import sys\n",
    "ancestor = os.path.abspath(os.path.join(os.pardir, os.pardir))\n",
    "if ancestor not in sys.path:\n",
    "    sys.path.append(ancestor)\n",
    "from Biblio_Reader import manager as mg\n",
    "from Biblio_Reader.biblio_reader import pdf_utils\n",
    "from Biblio_Reader.biblio_reader import pub_med\n",
    "from Biblio_Reader.biblio_reader.text_tools import convertToText, text_tools\n",
    "initial_date = date(2017, 3, 22)"
   ]
  },
  {
   "cell_type": "markdown",
   "metadata": {},
   "source": [
    "Load existing data…"
   ]
  },
  {
   "cell_type": "code",
   "execution_count": 4,
   "metadata": {},
   "outputs": [],
   "source": [
    "ytd = '../outputs/FCP_DATA_updated_{0}.csv'.format(date.today().year)\n",
    "existing = pd.read_csv(ytd) if os.path.exists(ytd) else pd.read_csv('../outputs/FCP_DATA.csv')\n",
    "if not os.path.exists(ytd):\n",
    "    existing['DateAdded'] = initial_date\n",
    "existing.dropna(axis=0, how='all', inplace=True)"
   ]
  },
  {
   "cell_type": "markdown",
   "metadata": {},
   "source": [
    "Load today's data…"
   ]
  },
  {
   "cell_type": "code",
   "execution_count": 6,
   "metadata": {
    "collapsed": true
   },
   "outputs": [],
   "source": [
    "today = pd.read_csv(os.path.join('../outputs', '{0}.csv'.format(str(date.today()))))\n",
    "today['DateAdded'] = date.today()"
   ]
  },
  {
   "cell_type": "markdown",
   "metadata": {},
   "source": [
    "Lowercase, stripped titles for comparison…"
   ]
  },
  {
   "cell_type": "code",
   "execution_count": 7,
   "metadata": {
    "collapsed": true
   },
   "outputs": [],
   "source": [
    "today_lower = today.copy()\n",
    "existing_lower = existing.copy()\n",
    "today_lower['Title'] = today_lower['Title'].apply(lambda x: x.strip().lower())\n",
    "existing_lower['Title'] = existing_lower['Title'].apply(lambda x: x.strip().lower())"
   ]
  },
  {
   "cell_type": "markdown",
   "metadata": {},
   "source": [
    "Drop duplicates…"
   ]
  },
  {
   "cell_type": "code",
   "execution_count": 8,
   "metadata": {
    "collapsed": true
   },
   "outputs": [],
   "source": [
    "today_lower = today_lower.loc[~today_lower.duplicated(subset=['URL'])]  # internal dupes by URL\n",
    "today_lower = today_lower.loc[~today_lower.duplicated(subset=['Title'])]  # internal dupes by Title\n",
    "today_lower = today_lower.loc[~today_lower['URL'].isin(existing_lower['URL'])]  # cross-csv dupes by URL\n",
    "today_lower = today_lower.loc[~today_lower['Title'].isin(existing_lower['Title'])]  # cross-csv dupes by Title\n",
    "today = today[today['Unnamed: 0'].isin(today_lower['Unnamed: 0'])]"
   ]
  },
  {
   "cell_type": "markdown",
   "metadata": {},
   "source": [
    "Visually check for straggling duplicates:"
   ]
  },
  {
   "cell_type": "code",
   "execution_count": 9,
   "metadata": {},
   "outputs": [
    {
     "data": {
      "text/plain": [
       "['4D Multi-atlas Label Fusion Using Longitudinal Images',\n",
       " 'A Multi-level Classification Framework for Multi-site Medical Data: Application to the ADHD-200 Collection',\n",
       " 'ADHD subgroup discrimination with global connectivity features using hierarchical extreme learning machine: resting-state FMRI study',\n",
       " 'Advances in studying brain morphology: The benefits of open-access data',\n",
       " 'Age and sex modulate the variability of neural responses to naturalistic videos',\n",
       " 'Anti-fragmentation of resting-state fMRI connectivity networks with node-wise thresholding',\n",
       " 'Assessment of the impact of shared data on the scientific literature',\n",
       " 'Classification based on neuroimaging data by tensor boosting',\n",
       " 'Collective discovery of brain networks with unknown groups',\n",
       " 'Data supporting publication\" Probabilistic thresholding of functional connectomes: application to schizophrenia\"',\n",
       " 'Decreased structural connectivity and resting-state brain activity in the lateral occipital cortex is associated with social communication deficits in boys with autism  …',\n",
       " 'Detecting Community Structure Based on Optimized Modularity by Genetic Algorithm in Resting-State fMRI',\n",
       " 'Double Temporal Sparsity Based Accelerated Reconstruction in Compressed Sensing fMRI',\n",
       " 'Examination of the validity of the atlas-informed approach to functional parcellation: a resting functional MRI study',\n",
       " 'FCNet: A Convolutional Neural Network for Calculating Functional Connectivity from functional MRI',\n",
       " 'Fluctuations between high-and low-modularity topology in time-resolved functional connectivity',\n",
       " 'Functional Connectivity Analysis of Resting-state fMRI data in ADHD Study',\n",
       " 'Functional connectivity patterns of autism spectrum disorder identified by deep feature learning',\n",
       " 'Hippocampus and amygdala radiomic biomarkers for the study of autism spectrum disorder',\n",
       " 'Identifying Autism from Resting-State fMRI Using Long Short-Term Memory Networks',\n",
       " 'Improving Functional MRI Registration Using Whole-Brain Functional Correlation Tensors',\n",
       " 'Inconsistency in abnormal brain activity across cohorts of ADHD-200 in children with attention deficit hyperactivity disorder',\n",
       " 'Inter-subject fMRI registration based on functional networks',\n",
       " 'LCN: a random graph mixture model for community detection in functional brain networks',\n",
       " 'Lifespan Development of the Human Brain Revealed by Large-Scale Network Eigen-Entropy',\n",
       " 'MiPAL: Multiple-instance passive aggressive learning for identification of attention deficit hyperactive disorder from fMRI',\n",
       " 'Mindcontrol: Organize, quality control, annotate, edit, and collaborate on neuroimaging processing results',\n",
       " 'Multimodal Study of Resting-State Functional Connectivity Networks using EEG electrodes position as seed',\n",
       " 'Multivariate Brain Network Graph Identification in Functional MRI',\n",
       " 'On wakefulness fluctuations as a source of BOLD functional connectivity dynamics',\n",
       " 'Parallel group independent component analysis for massive fMRI data sets',\n",
       " \"Resting State Functional Connectivity as a Pre-clinical Diagnostic Tool for Alzheimer's Disease\",\n",
       " 'Stochastic Signatures of Involuntary Head Micro-movements Can Be Used to Classify Females of ABIDE into Different Subtypes of Neurodevelopmental  …',\n",
       " 'Structural and functional MRI from a cross-sectional Southwest University Adult lifespan Dataset (SALD)',\n",
       " 'Template-guided Functional Network Identification via Supervised Dictionary Learning',\n",
       " 'Temporal interpolation alters motion in fMRI scans: Magnitudes and consequences for artifact detection',\n",
       " 'Towards understanding rTMS mechanism of action: Stimulation of the DLPFC causes network-specific increase in functional connectivity',\n",
       " '基于卷积神经网络的 ADHD 的判别分析']"
      ]
     },
     "execution_count": 9,
     "metadata": {},
     "output_type": "execute_result"
    }
   ],
   "source": [
    "list(today['Title'].sort_values().unique())"
   ]
  },
  {
   "cell_type": "markdown",
   "metadata": {},
   "source": [
    "See what preprints have since been published…"
   ]
  },
  {
   "cell_type": "code",
   "execution_count": 10,
   "metadata": {},
   "outputs": [
    {
     "name": "stdout",
     "output_type": "stream",
     "text": [
      "[]\n"
     ]
    }
   ],
   "source": [
    "preprints_and_others = existing_lower[existing_lower['Journal Category'].isin(['Other', 'Preprint'])]\n",
    "preprints = existing_lower[existing_lower['Journal Category'] == 'Preprint']\n",
    "potentials = list(set(today_lower.loc[today_lower['Title'].isin(preprints_and_others['Title'])]['Title']\n",
    "                ) | set(today_lower.loc[today_lower['Authors'].isin(preprints_and_others['Authors'])]['Title']))\n",
    "print(potentials)"
   ]
  },
  {
   "cell_type": "code",
   "execution_count": 11,
   "metadata": {
    "collapsed": true
   },
   "outputs": [],
   "source": [
    "today['i'] = range(max(existing['i']) + 1, max(existing['i']) + 1 + today.shape[0])\n",
    "today = today.drop('Unnamed: 0', axis=1)\n",
    "today.index = today.i"
   ]
  },
  {
   "cell_type": "code",
   "execution_count": 12,
   "metadata": {
    "collapsed": true
   },
   "outputs": [],
   "source": [
    "today_dir = os.path.abspath(os.path.join(ancestor, 'Biblio_Reader', str(date.today())))\n",
    "if not os.path.exists(today_dir):\n",
    "    os.makedirs(today_dir)"
   ]
  },
  {
   "cell_type": "markdown",
   "metadata": {},
   "source": [
    "PubMed IDs:"
   ]
  },
  {
   "cell_type": "code",
   "execution_count": 16,
   "metadata": {
    "collapsed": true
   },
   "outputs": [],
   "source": [
    "today['PMCID'] = pub_med.get_ids(today)\n",
    "today_pubmed = os.path.join(mg.WORKING_PATH, str(date.today()))\n",
    "if not os.path.exists(today_pubmed):\n",
    "    os.makedirs(today_pubmed)\n",
    "pub_med.write_bib(today, today_pubmed)\n",
    "pub_med.parse_bib(today_pubmed, \"{0}_bibs.csv\".format(today_pubmed))"
   ]
  },
  {
   "cell_type": "code",
   "execution_count": 19,
   "metadata": {
    "collapsed": true
   },
   "outputs": [
    {
     "name": "stderr",
     "output_type": "stream",
     "text": [
      "Some characters could not be decoded, and were replaced with REPLACEMENT CHARACTER.\n",
      "Some characters could not be decoded, and were replaced with REPLACEMENT CHARACTER.\n",
      "Some characters could not be decoded, and were replaced with REPLACEMENT CHARACTER.\n"
     ]
    },
    {
     "name": "stdout",
     "output_type": "stream",
     "text": [
      "1571 https://www.ncbi.nlm.nih.gov/pmc/articles/PMC5461345/\n"
     ]
    },
    {
     "name": "stderr",
     "output_type": "stream",
     "text": [
      "Some characters could not be decoded, and were replaced with REPLACEMENT CHARACTER.\n"
     ]
    },
    {
     "name": "stdout",
     "output_type": "stream",
     "text": [
      "1585 http://books.google.com/books?hl=en&lr=&id=DYQ0DwAAQBAJ&oi=fnd&pg=PA362&dq=fcon_1000.projects.nitrc.org+OR+%22Rockland+Sample%22+OR+%221000+Functional+Connectomes%22+OR+%22International+Neuroimaging+Data-Sharing+Initiative%22+OR+%22Autism+Brain+Imaging+Data+Exchange%22+OR+ADHD-200+OR+%22Consortium+for+Reproducibility+and+Reliability%22&ots=iMogS0fZRB&sig=qkmHznLeZAdjQPXBgtVlUkZ7IEI\n",
      "HTTP Error 404: Not Found 1588 http://www.sciencedirect.com/science/article/pii/S1053811917306912/pdfft?md5=bda7ab5972f30de9baa404123fb67631&pid=1-s2.0-S1053811917306912-main.pdf\n",
      "1593 https://www.ncbi.nlm.nih.gov/pmc/articles/PMC5517577/\n",
      "PDFS FOUND: 5\n"
     ]
    }
   ],
   "source": [
    "d = pdf_utils.pdffinder(\n",
    "    zip(today['i'], today['URL']),\n",
    "    today_dir)"
   ]
  },
  {
   "cell_type": "code",
   "execution_count": 20,
   "metadata": {
    "collapsed": true
   },
   "outputs": [],
   "source": [
    "d = pdf_utils.pdfopener(today, today_dir)"
   ]
  },
  {
   "cell_type": "code",
   "execution_count": 21,
   "metadata": {
    "collapsed": true
   },
   "outputs": [
    {
     "name": "stdout",
     "output_type": "stream",
     "text": [
      "HTTP Error 404: Not Found 1560 https://arxiv.org/articles/10.3389/fnins.2017.00320/pdf.pdf\n",
      "<urlopen error [Errno 8] nodename nor servname provided, or not known> 1560 https://arxiv.orghttps://www.frontiersin.org/articles/file/downloadfile/252093_supplementary-materials_presentations_1_pdf/octet-stream/Presentation 1.PDF/1/252093.pdf\n",
      "HTTP Error 404: Not Found 1564 https://arxiv.org/content/early/2017/09/04/183814.full.pdf+html.pdf\n",
      "HTTP Error 404: Not Found 1564 https://arxiv.org/panels_ajax_tab/biorxiv_tab_pdf/node:55759/1.pdf\n",
      "<urlopen error [Errno 8] nodename nor servname provided, or not known> 1564 https://arxiv.orghttps://www.biorxiv.org/content/early/2017/09/04/183814.full.pdf.pdf\n"
     ]
    },
    {
     "name": "stderr",
     "output_type": "stream",
     "text": [
      "Some characters could not be decoded, and were replaced with REPLACEMENT CHARACTER.\n",
      "Some characters could not be decoded, and were replaced with REPLACEMENT CHARACTER.\n",
      "Some characters could not be decoded, and were replaced with REPLACEMENT CHARACTER.\n"
     ]
    },
    {
     "name": "stdout",
     "output_type": "stream",
     "text": [
      "1571 https://www.ncbi.nlm.nih.gov/pmc/articles/PMC5461345/\n"
     ]
    },
    {
     "name": "stderr",
     "output_type": "stream",
     "text": [
      "Some characters could not be decoded, and were replaced with REPLACEMENT CHARACTER.\n"
     ]
    },
    {
     "name": "stdout",
     "output_type": "stream",
     "text": [
      "HTTP Error 404: Not Found 1574 https://arxiv.org/preprints/3010.pdf.pdf\n",
      "<urlopen error [Errno 8] nodename nor servname provided, or not known> 1574 https://arxiv.orghttps://d3amtssd1tejdt.cloudfront.net/2017/3010/2/Kuhl2016fig_RightsLink_Printable_License.pdf.pdf\n",
      "HTTP Error 404: Not Found 1574 https://arxiv.org/preprints/3010.pdf.pdf\n",
      "HTTP Error 404: Not Found 1579 https://arxiv.org/content/early/2017/07/14/089060.full.pdf+html.pdf\n",
      "HTTP Error 404: Not Found 1579 https://arxiv.org/panels_ajax_tab/biorxiv_tab_pdf/node:48685/1.pdf\n",
      "<urlopen error [Errno 8] nodename nor servname provided, or not known> 1579 https://arxiv.orghttps://www.biorxiv.org/content/early/2017/07/14/089060.full.pdf.pdf\n",
      "HTTP Error 404: Not Found 1582 https://arxiv.org/content/early/2017/08/17/177279.full.pdf+html.pdf\n",
      "HTTP Error 404: Not Found 1582 https://arxiv.org/panels_ajax_tab/biorxiv_tab_pdf/node:53301/1.pdf\n",
      "<urlopen error [Errno 8] nodename nor servname provided, or not known> 1582 https://arxiv.orghttps://www.biorxiv.org/content/early/2017/08/17/177279.full.pdf.pdf\n",
      "HTTP Error 404: Not Found 1584 https://arxiv.org/1099-4300/19/9/471/pdf.pdf\n",
      "1585 http://books.google.com/books?hl=en&lr=&id=DYQ0DwAAQBAJ&oi=fnd&pg=PA362&dq=fcon_1000.projects.nitrc.org+OR+%22Rockland+Sample%22+OR+%221000+Functional+Connectomes%22+OR+%22International+Neuroimaging+Data-Sharing+Initiative%22+OR+%22Autism+Brain+Imaging+Data+Exchange%22+OR+ADHD-200+OR+%22Consortium+for+Reproducibility+and+Reliability%22&ots=iMogS0fZRB&sig=qkmHznLeZAdjQPXBgtVlUkZ7IEI\n",
      "HTTP Error 404: Not Found 1588 https://arxiv.org/science/article/pii/S1053811917306912/pdfft?md5=bda7ab5972f30de9baa404123fb67631&pid=1-s2.0-S1053811917306912-main.pdf.pdf\n",
      "HTTP Error 404: Not Found 1591 https://arxiv.org/track/pdf/10.1186/s12868-017-0373-0?site=bmcneurosci.biomedcentral.com.pdf\n",
      "HTTP Error 404: Not Found 1592 https://arxiv.org/content/early/2017/08/08/167585.full.pdf+html.pdf\n",
      "HTTP Error 404: Not Found 1592 https://arxiv.org/panels_ajax_tab/biorxiv_tab_pdf/node:51918/1.pdf\n",
      "<urlopen error [Errno 8] nodename nor servname provided, or not known> 1592 https://arxiv.orghttps://www.biorxiv.org/content/early/2017/08/08/167585.full.pdf.pdf\n",
      "1593 https://www.ncbi.nlm.nih.gov/pmc/articles/PMC5517577/\n"
     ]
    }
   ],
   "source": [
    "d = pdf_utils.arxiv_open(zip(today['i'], today['URL']),\n",
    "    today_dir)"
   ]
  },
  {
   "cell_type": "code",
   "execution_count": 22,
   "metadata": {
    "collapsed": true
   },
   "outputs": [
    {
     "name": "stderr",
     "output_type": "stream",
     "text": [
      "Some characters could not be decoded, and were replaced with REPLACEMENT CHARACTER.\n",
      "Some characters could not be decoded, and were replaced with REPLACEMENT CHARACTER.\n",
      "Some characters could not be decoded, and were replaced with REPLACEMENT CHARACTER.\n"
     ]
    },
    {
     "name": "stdout",
     "output_type": "stream",
     "text": [
      "1571 https://www.ncbi.nlm.nih.gov/pmc/articles/PMC5461345/\n"
     ]
    },
    {
     "name": "stderr",
     "output_type": "stream",
     "text": [
      "Some characters could not be decoded, and were replaced with REPLACEMENT CHARACTER.\n"
     ]
    },
    {
     "name": "stdout",
     "output_type": "stream",
     "text": [
      "1585 http://books.google.com/books?hl=en&lr=&id=DYQ0DwAAQBAJ&oi=fnd&pg=PA362&dq=fcon_1000.projects.nitrc.org+OR+%22Rockland+Sample%22+OR+%221000+Functional+Connectomes%22+OR+%22International+Neuroimaging+Data-Sharing+Initiative%22+OR+%22Autism+Brain+Imaging+Data+Exchange%22+OR+ADHD-200+OR+%22Consortium+for+Reproducibility+and+Reliability%22&ots=iMogS0fZRB&sig=qkmHznLeZAdjQPXBgtVlUkZ7IEI\n",
      "1593 https://www.ncbi.nlm.nih.gov/pmc/articles/PMC5517577/\n"
     ]
    }
   ],
   "source": [
    "d = pdf_utils.plos_open(zip(today['i'], today['URL']),\n",
    "    today_dir)"
   ]
  },
  {
   "cell_type": "code",
   "execution_count": 23,
   "metadata": {
    "collapsed": true
   },
   "outputs": [
    {
     "name": "stdout",
     "output_type": "stream",
     "text": [
      "unknown url type: '/articles/10.3389/fnins.2017.00320/pdf' 1560 /articles/10.3389/fnins.2017.00320/pdf\n",
      "HTTP Error 400: Bad request 1560 https://www.frontiersin.org/articles/file/downloadfile/252093_supplementary-materials_presentations_1_pdf/octet-stream/Presentation 1.PDF/1/252093\n",
      "unknown url type: '/content/early/2017/09/04/183814.full.pdf+html' 1564 /content/early/2017/09/04/183814.full.pdf+html\n",
      "unknown url type: '/panels_ajax_tab/biorxiv_tab_pdf/node:55759/1' 1564 /panels_ajax_tab/biorxiv_tab_pdf/node:55759/1\n"
     ]
    },
    {
     "name": "stderr",
     "output_type": "stream",
     "text": [
      "Some characters could not be decoded, and were replaced with REPLACEMENT CHARACTER.\n",
      "Some characters could not be decoded, and were replaced with REPLACEMENT CHARACTER.\n",
      "Some characters could not be decoded, and were replaced with REPLACEMENT CHARACTER.\n"
     ]
    },
    {
     "name": "stdout",
     "output_type": "stream",
     "text": [
      "1571 https://www.ncbi.nlm.nih.gov/pmc/articles/PMC5461345/\n"
     ]
    },
    {
     "name": "stderr",
     "output_type": "stream",
     "text": [
      "Some characters could not be decoded, and were replaced with REPLACEMENT CHARACTER.\n"
     ]
    },
    {
     "name": "stdout",
     "output_type": "stream",
     "text": [
      "unknown url type: '/preprints/3010.pdf' 1574 /preprints/3010.pdf\n",
      "unknown url type: '/pdf/1707.05281' 1577 /pdf/1707.05281\n",
      "unknown url type: '/content/early/2017/07/14/089060.full.pdf+html' 1579 /content/early/2017/07/14/089060.full.pdf+html\n",
      "unknown url type: '/panels_ajax_tab/biorxiv_tab_pdf/node:48685/1' 1579 /panels_ajax_tab/biorxiv_tab_pdf/node:48685/1\n",
      "unknown url type: '/content/early/2017/08/17/177279.full.pdf+html' 1582 /content/early/2017/08/17/177279.full.pdf+html\n",
      "unknown url type: '/panels_ajax_tab/biorxiv_tab_pdf/node:53301/1' 1582 /panels_ajax_tab/biorxiv_tab_pdf/node:53301/1\n",
      "unknown url type: '/pdf/1707.07932' 1583 /pdf/1707.07932\n",
      "unknown url type: '/1099-4300/19/9/471/pdf' 1584 /1099-4300/19/9/471/pdf\n",
      "1585 http://books.google.com/books?hl=en&lr=&id=DYQ0DwAAQBAJ&oi=fnd&pg=PA362&dq=fcon_1000.projects.nitrc.org+OR+%22Rockland+Sample%22+OR+%221000+Functional+Connectomes%22+OR+%22International+Neuroimaging+Data-Sharing+Initiative%22+OR+%22Autism+Brain+Imaging+Data+Exchange%22+OR+ADHD-200+OR+%22Consortium+for+Reproducibility+and+Reliability%22&ots=iMogS0fZRB&sig=qkmHznLeZAdjQPXBgtVlUkZ7IEI\n",
      "unknown url type: '/science/article/pii/S1053811917306912/pdfft?md5=bda7ab5972f30de9baa404123fb67631&pid=1-s2.0-S1053811917306912-main.pdf' 1588 /science/article/pii/S1053811917306912/pdfft?md5=bda7ab5972f30de9baa404123fb67631&pid=1-s2.0-S1053811917306912-main.pdf\n",
      "unknown url type: '/track/pdf/10.1186/s12868-017-0373-0?site=bmcneurosci.biomedcentral.com' 1591 /track/pdf/10.1186/s12868-017-0373-0?site=bmcneurosci.biomedcentral.com\n",
      "unknown url type: '/content/early/2017/08/08/167585.full.pdf+html' 1592 /content/early/2017/08/08/167585.full.pdf+html\n",
      "unknown url type: '/panels_ajax_tab/biorxiv_tab_pdf/node:51918/1' 1592 /panels_ajax_tab/biorxiv_tab_pdf/node:51918/1\n",
      "1593 https://www.ncbi.nlm.nih.gov/pmc/articles/PMC5517577/\n"
     ]
    }
   ],
   "source": [
    "d = pdf_utils.liebert_open(zip(today['i'], today['URL']),\n",
    "    today_dir)"
   ]
  },
  {
   "cell_type": "code",
   "execution_count": 24,
   "metadata": {
    "collapsed": true
   },
   "outputs": [
    {
     "name": "stdout",
     "output_type": "stream",
     "text": [
      "HTTP Error 403: Forbidden 1571 https://www.ncbi.nlm.nih.gov/pmc/articles/PMC5461345/\n",
      "HTTP Error 401: Unauthorized 1585 http://books.google.com/books?hl=en&lr=&id=DYQ0DwAAQBAJ&oi=fnd&pg=PA362&dq=fcon_1000.projects.nitrc.org+OR+%22Rockland+Sample%22+OR+%221000+Functional+Connectomes%22+OR+%22International+Neuroimaging+Data-Sharing+Initiative%22+OR+%22Autism+Brain+Imaging+Data+Exchange%22+OR+ADHD-200+OR+%22Consortium+for+Reproducibility+and+Reliability%22&ots=iMogS0fZRB&sig=qkmHznLeZAdjQPXBgtVlUkZ7IEI\n",
      "HTTP Error 403: Forbidden 1593 https://www.ncbi.nlm.nih.gov/pmc/articles/PMC5517577/\n"
     ]
    }
   ],
   "source": [
    "d = pdf_utils.citeseer_open(zip(today['i'], today['URL']),\n",
    "    today_dir)"
   ]
  },
  {
   "cell_type": "markdown",
   "metadata": {},
   "source": [
    "Manually download as many of these as you can:"
   ]
  },
  {
   "cell_type": "code",
   "execution_count": 47,
   "metadata": {},
   "outputs": [
    {
     "name": "stderr",
     "output_type": "stream",
     "text": [
      "PdfReadWarning: Xref table not zero-indexed. ID numbers for objects will be corrected. [pdf.py:1736]\n"
     ]
    }
   ],
   "source": [
    "have_nots = set(pdf_utils.find_corrupted(today_dir))\n",
    "haves = [int(i.rstrip('.pdf')) for i in os.listdir(today_dir) if i.endswith('pdf')]\n",
    "have_nots = ({i for i in today['i'] if i not in haves} | have_nots)"
   ]
  },
  {
   "cell_type": "code",
   "execution_count": 50,
   "metadata": {},
   "outputs": [
    {
     "name": "stdout",
     "output_type": "stream",
     "text": [
      "1559 : https://uncch.pure.elsevier.com/en/publications/lcn-a-random-graph-mixture-model-for-community-detection-in-funct : LCN: a random graph mixture model for community detection in functional brain networks\n",
      "1562 : http://ieeexplore.ieee.org/abstract/document/7950576/ : ADHD subgroup discrimination with global connectivity features using hierarchical extreme learning machine: resting-state FMRI study\n",
      "1563 : http://journals.lww.com/neuroreport/Abstract/2017/08020/Examination_of_the_validity_of_the_atlas_informed.9.aspx : Examination of the validity of the atlas-informed approach to functional parcellation: a resting functional MRI study\n",
      "1564 : https://www.biorxiv.org/content/early/2017/09/04/183814.abstract : Assessment of the impact of shared data on the scientific literature\n",
      "1566 : https://link.springer.com/chapter/10.1007/978-3-319-67159-8_9 : FCNet: A Convolutional Neural Network for Calculating Functional Connectivity from functional MRI\n",
      "1568 : http://link.springer.com/chapter/10.1007/978-3-319-59081-3_53 : Detecting Community Structure Based on Optimized Modularity by Genetic Algorithm in Resting-State fMRI\n",
      "1570 : http://online.liebertpub.com/doi/abs/10.1089/brain.2017.0523 : Anti-fragmentation of resting-state fMRI connectivity networks with node-wise thresholding\n",
      "1572 : https://link.springer.com/chapter/10.1007/978-3-319-66182-7_48 : Improving Functional MRI Registration Using Whole-Brain Functional Correlation Tensors\n",
      "1573 : https://www.repository.cam.ac.uk/bitstream/handle/1810/266854/data-processing-and-description.docx?sequence=3&isAllowed=y : Data supporting publication\" Probabilistic thresholding of functional connectomes: application to schizophrenia\"\n",
      "1574 : https://peerj.com/preprints/3010/ : Advances in studying brain morphology: The benefits of open-access data\n",
      "1575 : http://ieeexplore.ieee.org/abstract/document/7950471/ : Template-guided Functional Network Identification via Supervised Dictionary Learning\n",
      "1576 : http://ieeexplore.ieee.org/abstract/document/7965985/ : Classification based on neuroimaging data by tensor boosting\n",
      "1577 : https://arxiv.org/abs/1707.05281 : Double Temporal Sparsity Based Accelerated Reconstruction in Compressed Sensing fMRI\n",
      "1578 : http://www.sciencedirect.com/science/article/pii/S1361841517301305 : Multivariate Brain Network Graph Identification in Functional MRI\n",
      "1579 : https://www.biorxiv.org/content/early/2017/07/14/089060.abstract : Age and sex modulate the variability of neural responses to naturalistic videos\n",
      "1580 : https://link.springer.com/chapter/10.1007/978-3-319-67434-6_1 : 4D Multi-atlas Label Fusion Using Longitudinal Images\n",
      "1581 : http://www.sciencedirect.com/science/article/pii/S105381191730770X : Towards understanding rTMS mechanism of action: Stimulation of the DLPFC causes network-specific increase in functional connectivity\n",
      "1582 : https://www.biorxiv.org/content/early/2017/08/17/177279.abstract : Structural and functional MRI from a cross-sectional Southwest University Adult lifespan Dataset (SALD)\n",
      "1583 : https://arxiv.org/abs/1707.07932 : Functional connectivity patterns of autism spectrum disorder identified by deep feature learning\n",
      "1584 : http://www.mdpi.com/1099-4300/19/9/471htm : Lifespan Development of the Human Brain Revealed by Large-Scale Network Eigen-Entropy\n",
      "1585 : http://books.google.com/books?hl=en&lr=&id=DYQ0DwAAQBAJ&oi=fnd&pg=PA362&dq=fcon_1000.projects.nitrc.org+OR+%22Rockland+Sample%22+OR+%221000+Functional+Connectomes%22+OR+%22International+Neuroimaging+Data-Sharing+Initiative%22+OR+%22Autism+Brain+Imaging+Data+Exchange%22+OR+ADHD-200+OR+%22Consortium+for+Reproducibility+and+Reliability%22&ots=iMogS0fZRB&sig=qkmHznLeZAdjQPXBgtVlUkZ7IEI : Identifying Autism from Resting-State fMRI Using Long Short-Term Memory Networks\n",
      "1586 : http://ieeexplore.ieee.org/abstract/document/7966432/ : MiPAL: Multiple-instance passive aggressive learning for identification of attention deficit hyperactive disorder from fMRI\n",
      "1587 : http://ieeexplore.ieee.org/abstract/document/7950653/ : Inter-subject fMRI registration based on functional networks\n",
      "1588 : http://www.sciencedirect.com/science/article/pii/S1053811917306912 : Fluctuations between high-and low-modularity topology in time-resolved functional connectivity\n",
      "1589 : http://ieeexplore.ieee.org/abstract/document/7966305/ : Collective discovery of brain networks with unknown groups\n",
      "1590 : http://journals.plos.org/plosone/article?id=10.1371/journal.pone.0173496 : Parallel group independent component analysis for massive fMRI data sets\n",
      "1591 : https://bmcneurosci.biomedcentral.com/articles/10.1186/s12868-017-0373-0 : Hippocampus and amygdala radiomic biomarkers for the study of autism spectrum disorder\n",
      "1592 : https://www.biorxiv.org/content/early/2017/08/08/167585.abstract : Multimodal Study of Resting-State Functional Connectivity Networks using EEG electrodes position as seed\n",
      "1594 : http://www.cqvip.com/qk/95939a/201704/671411176.html : 基于卷积神经网络的 ADHD 的判别分析\n",
      "1595 : http://journals.plos.org/plosone/article?id=10.1371/journal.pone.0182939 : Temporal interpolation alters motion in fMRI scans: Magnitudes and consequences for artifact detection\n",
      "1596 : http://www.sciencedirect.com/science/article/pii/S1053811917307796 : Decreased structural connectivity and resting-state brain activity in the lateral occipital cortex is associated with social communication deficits in boys with autism  …\n"
     ]
    }
   ],
   "source": [
    "for i in have_nots:\n",
    "    path = today['URL']\n",
    "    path = path.apply(lambda x: x[26:] if x.startswith('http://scholar.google.com/') else x)\n",
    "    print(i, end=\" : \")\n",
    "    print(path[i], end=\" : \")\n",
    "    print(today['Title'][i])"
   ]
  },
  {
   "cell_type": "markdown",
   "metadata": {},
   "source": [
    "Check again…"
   ]
  },
  {
   "cell_type": "code",
   "execution_count": 60,
   "metadata": {},
   "outputs": [
    {
     "name": "stderr",
     "output_type": "stream",
     "text": [
      "PdfReadWarning: Xref table not zero-indexed. ID numbers for objects will be corrected. [pdf.py:1736]\n"
     ]
    }
   ],
   "source": [
    "have_nots = set(pdf_utils.find_corrupted(today_dir))\n",
    "haves = [int(i.rstrip('.pdf')) for i in os.listdir(today_dir) if i.endswith('pdf')]\n",
    "have_nots = ({i for i in today['i'] if i not in haves} | have_nots)"
   ]
  },
  {
   "cell_type": "code",
   "execution_count": 61,
   "metadata": {},
   "outputs": [
    {
     "name": "stdout",
     "output_type": "stream",
     "text": [
      "1559 : https://uncch.pure.elsevier.com/en/publications/lcn-a-random-graph-mixture-model-for-community-detection-in-funct : LCN: a random graph mixture model for community detection in functional brain networks\n"
     ]
    }
   ],
   "source": [
    "for i in have_nots:\n",
    "    path = today['URL']\n",
    "    path = path.apply(\n",
    "           lambda x:\n",
    "               x[26:] if x.startswith('http://scholar.google.com/') else x\n",
    "           )\n",
    "    print(i, end=\" : \")\n",
    "    print(path[i], end=\" : \")\n",
    "    print(today['Title'][i])"
   ]
  },
  {
   "cell_type": "markdown",
   "metadata": {},
   "source": [
    "After downloading pdfs, convert to plaintext:"
   ]
  },
  {
   "cell_type": "code",
   "execution_count": 89,
   "metadata": {
    "collapsed": true
   },
   "outputs": [
    {
     "name": "stdout",
     "output_type": "stream",
     "text": [
      "/Users/jon.clucas/Biblio_Reader/2017-10-03/1560.pdf\n",
      "/Users/jon.clucas/Biblio_Reader/2017-10-03/1561.pdf\n",
      "/Users/jon.clucas/Biblio_Reader/2017-10-03/1562.pdf\n",
      "/Users/jon.clucas/Biblio_Reader/2017-10-03/1563.pdf\n",
      "/Users/jon.clucas/Biblio_Reader/2017-10-03/1564.pdf\n",
      "/Users/jon.clucas/Biblio_Reader/2017-10-03/1565.pdf\n",
      "/Users/jon.clucas/Biblio_Reader/2017-10-03/1566.pdf\n",
      "/Users/jon.clucas/Biblio_Reader/2017-10-03/1567.pdf\n",
      "/Users/jon.clucas/Biblio_Reader/2017-10-03/1568.pdf\n",
      "/Users/jon.clucas/Biblio_Reader/2017-10-03/1569.pdf\n",
      "/Users/jon.clucas/Biblio_Reader/2017-10-03/1570.pdf\n",
      "/Users/jon.clucas/Biblio_Reader/2017-10-03/1571.pdf\n",
      "/Users/jon.clucas/Biblio_Reader/2017-10-03/1572.pdf\n",
      "/Users/jon.clucas/Biblio_Reader/2017-10-03/1573.pdf\n",
      "/Users/jon.clucas/Biblio_Reader/2017-10-03/1574.pdf\n",
      "/Users/jon.clucas/Biblio_Reader/2017-10-03/1575.pdf\n",
      "/Users/jon.clucas/Biblio_Reader/2017-10-03/1576.pdf\n",
      "/Users/jon.clucas/Biblio_Reader/2017-10-03/1577.pdf\n",
      "/Users/jon.clucas/Biblio_Reader/2017-10-03/1578.pdf\n",
      "/Users/jon.clucas/Biblio_Reader/2017-10-03/1579.pdf\n",
      "/Users/jon.clucas/Biblio_Reader/2017-10-03/1580.pdf\n",
      "/Users/jon.clucas/Biblio_Reader/2017-10-03/1581.pdf\n",
      "/Users/jon.clucas/Biblio_Reader/2017-10-03/1582.pdf\n",
      "/Users/jon.clucas/Biblio_Reader/2017-10-03/1583.pdf\n",
      "/Users/jon.clucas/Biblio_Reader/2017-10-03/1584.pdf\n",
      "/Users/jon.clucas/Biblio_Reader/2017-10-03/1585.pdf\n",
      "/Users/jon.clucas/Biblio_Reader/2017-10-03/1586.pdf\n",
      "/Users/jon.clucas/Biblio_Reader/2017-10-03/1587.pdf\n",
      "/Users/jon.clucas/Biblio_Reader/2017-10-03/1588.pdf\n",
      "/Users/jon.clucas/Biblio_Reader/2017-10-03/1589.pdf\n",
      "/Users/jon.clucas/Biblio_Reader/2017-10-03/1590.pdf\n",
      "/Users/jon.clucas/Biblio_Reader/2017-10-03/1591.pdf\n",
      "/Users/jon.clucas/Biblio_Reader/2017-10-03/1592.pdf\n",
      "/Users/jon.clucas/Biblio_Reader/2017-10-03/1593.pdf\n",
      "/Users/jon.clucas/Biblio_Reader/2017-10-03/1594.pdf\n",
      "/Users/jon.clucas/Biblio_Reader/2017-10-03/1595.pdf\n",
      "/Users/jon.clucas/Biblio_Reader/2017-10-03/1596.pdf\n"
     ]
    }
   ],
   "source": [
    "txt_dir = os.path.join(today_dir, 'txt')\n",
    "if not os.path.exists(txt_dir):\n",
    "    os.makedirs(txt_dir)\n",
    "convertToText.walkAndText(today_dir, txt_dir)"
   ]
  },
  {
   "cell_type": "markdown",
   "metadata": {},
   "source": [
    "Collect relevant ¶s:"
   ]
  },
  {
   "cell_type": "code",
   "execution_count": 121,
   "metadata": {
    "collapsed": true
   },
   "outputs": [],
   "source": [
    "today['Excerpt'] = pd.Series(\n",
    "                       text_tools.find_paragraphs(\n",
    "                           txt_dir,\n",
    "                           [*mg.WEIGHTED_SETS, *mg.UNWEIGHTED_SETS],\n",
    "                           os.path.join(today_dir, 'excerpts')\n",
    "                       )\n",
    "                   ).apply(lambda x: \"\\n\\n\".join(x))"
   ]
  },
  {
   "cell_type": "code",
   "execution_count": 122,
   "metadata": {
    "collapsed": true
   },
   "outputs": [],
   "source": [
    "sets = text_tools.assoc_sets(\n",
    "            today,\n",
    "            txt_dir,\n",
    "            mg.WEIGHTED_SETS,\n",
    "            mg.UNWEIGHTED_SETS\n",
    "        )\n",
    "today['Sets'] = pd.Series(\n",
    "    {k:sets[k]\n",
    "        for k in sets if k>=min(today['i'])\n",
    "    }\n",
    ")"
   ]
  },
  {
   "cell_type": "markdown",
   "metadata": {},
   "source": [
    "Update csv:"
   ]
  },
  {
   "cell_type": "code",
   "execution_count": 124,
   "metadata": {
    "collapsed": true
   },
   "outputs": [],
   "source": [
    "existing.merge(today, how='outer').to_csv(ytd)"
   ]
  },
  {
   "cell_type": "markdown",
   "metadata": {},
   "source": [
    "Vet what's left on the web:"
   ]
  },
  {
   "cell_type": "code",
   "execution_count": 140,
   "metadata": {},
   "outputs": [
    {
     "name": "stdout",
     "output_type": "stream",
     "text": [
      "1597 https://uncch.pure.elsevier.com/en/publications/lcn-a-random-graph-mixture-model-for-community-detection-in-funct\n"
     ]
    },
    {
     "data": {
      "text/plain": [
       "[('1597',\n",
       "  'https://uncch.pure.elsevier.com/en/publications/lcn-a-random-graph-mixture-model-for-community-detection-in-funct')]"
      ]
     },
     "execution_count": 140,
     "metadata": {},
     "output_type": "execute_result"
    }
   ],
   "source": [
    "pdf_utils.find_articles_left(\n",
    "    zip(today['i'].astype(str), today['URL']),\n",
    "    txt_dir)"
   ]
  },
  {
   "cell_type": "markdown",
   "metadata": {},
   "source": [
    "Human-readable excerpt txt file:"
   ]
  },
  {
   "cell_type": "code",
   "execution_count": 165,
   "metadata": {
    "collapsed": true
   },
   "outputs": [],
   "source": [
    "with open(os.path.join(today_dir, 'excerpts.txt'), 'w') as f:\n",
    "    f.write(\"\".join([\"{0}\\n\\n{1}\\n\\n\\n\\n\".format(i, j)\n",
    "        for i, j in zip(today.index, today['Excerpt'])])\n",
    "    )"
   ]
  },
  {
   "cell_type": "markdown",
   "metadata": {},
   "source": [
    "Come back after all the manual vetting and run the numbers!"
   ]
  },
  {
   "cell_type": "code",
   "execution_count": 5,
   "metadata": {},
   "outputs": [
    {
     "data": {
      "text/plain": [
       "Index(['Unnamed: 0', 'i', 'Title', 'URL', 'Year', 'Citations', 'Versions',\n",
       "       'Cluster ID', 'PDF link', 'Citations list', 'Versions list',\n",
       "       'Citation link', 'Excerpt', 'Journal', 'Authors', 'Publisher',\n",
       "       'Citations Per Year', 'Journal Category', 'PMCID', 'Affiliations',\n",
       "       'Qualifiers', 'Data Use', 'Sets', 'Contributor', 'Duplicate of',\n",
       "       'DateAdded'],\n",
       "      dtype='object')"
      ]
     },
     "execution_count": 5,
     "metadata": {},
     "output_type": "execute_result"
    }
   ],
   "source": [
    "existing.columns"
   ]
  },
  {
   "cell_type": "code",
   "execution_count": 27,
   "metadata": {},
   "outputs": [
    {
     "data": {
      "text/plain": [
       "(1598, 26)"
      ]
     },
     "execution_count": 27,
     "metadata": {},
     "output_type": "execute_result"
    }
   ],
   "source": [
    "existing.shape"
   ]
  },
  {
   "cell_type": "code",
   "execution_count": 43,
   "metadata": {},
   "outputs": [
    {
     "data": {
      "text/plain": [
       "153"
      ]
     },
     "execution_count": 43,
     "metadata": {},
     "output_type": "execute_result"
    }
   ],
   "source": [
    "len(existing.loc[\n",
    "    (existing['Data Use'].isin(['Y', 'N'])) &\n",
    "    (existing['Contributor'] == 'Contributor')\n",
    "])"
   ]
  },
  {
   "cell_type": "code",
   "execution_count": 41,
   "metadata": {},
   "outputs": [
    {
     "data": {
      "text/plain": [
       "77"
      ]
     },
     "execution_count": 41,
     "metadata": {},
     "output_type": "execute_result"
    }
   ],
   "source": [
    "len(existing.loc[\n",
    "    (existing['Journal Category'] == 'Journal') & \n",
    "    (existing['Data Use'].isin(['Y'])) &\n",
    "    (existing['Contributor'] == 'Contributor')\n",
    "])"
   ]
  },
  {
   "cell_type": "code",
   "execution_count": 34,
   "metadata": {},
   "outputs": [
    {
     "data": {
      "text/plain": [
       "1289"
      ]
     },
     "execution_count": 34,
     "metadata": {},
     "output_type": "execute_result"
    }
   ],
   "source": [
    "len(existing.loc[\n",
    "    (existing['Data Use'].isin(['Y', 'N'])) &\n",
    "    (existing['Contributor'] == 'Not a Contributor')\n",
    "])"
   ]
  },
  {
   "cell_type": "code",
   "execution_count": 44,
   "metadata": {},
   "outputs": [
    {
     "data": {
      "text/plain": [
       "547"
      ]
     },
     "execution_count": 44,
     "metadata": {},
     "output_type": "execute_result"
    }
   ],
   "source": [
    "len(existing.loc[\n",
    "    (existing['Journal Category'] == 'Journal') & \n",
    "    (existing['Data Use'].isin(['Y'])) &\n",
    "    (existing['Contributor'] == 'Not a Contributor')\n",
    "])"
   ]
  },
  {
   "cell_type": "code",
   "execution_count": 31,
   "metadata": {},
   "outputs": [
    {
     "data": {
      "text/plain": [
       "1442"
      ]
     },
     "execution_count": 31,
     "metadata": {},
     "output_type": "execute_result"
    }
   ],
   "source": [
    "len(existing.loc[\n",
    "    (existing['Data Use'].isin(['Y', 'N']))\n",
    "])"
   ]
  },
  {
   "cell_type": "code",
   "execution_count": 38,
   "metadata": {},
   "outputs": [
    {
     "data": {
      "text/plain": [
       "993"
      ]
     },
     "execution_count": 38,
     "metadata": {},
     "output_type": "execute_result"
    }
   ],
   "source": [
    "len(existing.loc[    \n",
    "    (existing['Journal Category'] == 'Journal') & \n",
    "    (existing['Data Use'].isin(['Y', 'N']))\n",
    "])"
   ]
  },
  {
   "cell_type": "code",
   "execution_count": null,
   "metadata": {
    "collapsed": true
   },
   "outputs": [],
   "source": []
  }
 ],
 "metadata": {
  "kernelspec": {
   "display_name": "Python [default]",
   "language": "python",
   "name": "python3"
  }
 },
 "nbformat": 4,
 "nbformat_minor": 2
}
