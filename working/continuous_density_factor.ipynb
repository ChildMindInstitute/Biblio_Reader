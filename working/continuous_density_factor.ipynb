{
 "cells": [
  {
   "cell_type": "markdown",
   "metadata": {},
   "source": [
    "Setup"
   ]
  },
  {
   "cell_type": "code",
   "execution_count": 1,
   "metadata": {
    "collapsed": true
   },
   "outputs": [],
   "source": [
    "%load_ext autoreload\n",
    "%autoreload 2"
   ]
  },
  {
   "cell_type": "code",
   "execution_count": 2,
   "metadata": {
    "collapsed": true
   },
   "outputs": [],
   "source": [
    "from datetime import date\n",
    "import numpy as np\n",
    "import os\n",
    "import pandas as pd\n",
    "import sys\n",
    "ancestor = os.path.abspath(os.path.join(os.pardir, os.pardir))\n",
    "if ancestor not in sys.path:\n",
    "    sys.path.append(ancestor)\n",
    "from Biblio_Reader import manager as mg\n",
    "existing = pd.read_csv('../outputs/FCP_DATA_updated_2017.csv')\n",
    "existing.dropna(axis=0, how='all', inplace=True)\n",
    "withsets = existing.loc[~pd.isnull(existing[\"Sets\"])].copy()\n",
    "\n",
    "\n",
    "def cdf_weighted(data, column, value):\n",
    "    \"\"\"\n",
    "    Given a DataFrame, a column name, and a value in that column,\n",
    "    returns a single weighted CiteScore value.\n",
    "    \n",
    "    Parameters\n",
    "    ----------\n",
    "    data : DataFrame\n",
    "        needs \"Journal\" column\n",
    "       \n",
    "    column : string\n",
    "        column to filter\n",
    "       \n",
    "    value : any dtype\n",
    "        value in `column` to get value for\n",
    "        \n",
    "    Returns\n",
    "    -------\n",
    "    cdfw : float\n",
    "        ∑CiteScore/n\n",
    "    \"\"\"\n",
    "    j = mg.get_journal_attrs()\n",
    "    l = [str(journal_name).lower() for journal_name in data.loc[data[column] == value][\"Journal\"]]\n",
    "    citescores = [float(j[k][\"CiteScore\"]) for k in l if k in j and len(j[k][\"CiteScore\"])]\n",
    "    return(float(\"%.2f\" %round(np.mean(citescores), 2)))"
   ]
  },
  {
   "cell_type": "markdown",
   "metadata": {},
   "source": [
    "# Contributor:"
   ]
  },
  {
   "cell_type": "code",
   "execution_count": 3,
   "metadata": {},
   "outputs": [
    {
     "data": {
      "text/plain": [
       "5.45"
      ]
     },
     "execution_count": 3,
     "metadata": {},
     "output_type": "execute_result"
    }
   ],
   "source": [
    "cdf_weighted(existing, \"Contributor\", \"Contributor\")"
   ]
  },
  {
   "cell_type": "markdown",
   "metadata": {},
   "source": [
    "# Non-contributor:"
   ]
  },
  {
   "cell_type": "code",
   "execution_count": 4,
   "metadata": {},
   "outputs": [
    {
     "data": {
      "text/plain": [
       "4.96"
      ]
     },
     "execution_count": 4,
     "metadata": {},
     "output_type": "execute_result"
    }
   ],
   "source": [
    "cdf_weighted(existing, \"Contributor\", \"Not a Contributor\")"
   ]
  },
  {
   "cell_type": "markdown",
   "metadata": {},
   "source": [
    "# ABIDE data use:"
   ]
  },
  {
   "cell_type": "code",
   "execution_count": 5,
   "metadata": {},
   "outputs": [
    {
     "data": {
      "text/plain": [
       "4.82"
      ]
     },
     "execution_count": 5,
     "metadata": {},
     "output_type": "execute_result"
    }
   ],
   "source": [
    "cdf_weighted(withsets.loc[withsets.Sets.str.contains(\"ABIDE\")], \"Data Use\", \"Y\")"
   ]
  },
  {
   "cell_type": "markdown",
   "metadata": {},
   "source": [
    "# Non-ABIDE data use:"
   ]
  },
  {
   "cell_type": "code",
   "execution_count": 6,
   "metadata": {},
   "outputs": [
    {
     "data": {
      "text/plain": [
       "4.6"
      ]
     },
     "execution_count": 6,
     "metadata": {},
     "output_type": "execute_result"
    }
   ],
   "source": [
    "cdf_weighted(withsets.loc[~withsets.Sets.str.contains(\"ABIDE\")], \"Data Use\", \"Y\")"
   ]
  }
 ],
 "metadata": {
  "kernelspec": {
   "display_name": "Python [default]",
   "language": "python",
   "name": "python3"
  },
  "language_info": {
   "codemirror_mode": {
    "name": "ipython",
    "version": 3
   },
   "file_extension": ".py",
   "mimetype": "text/x-python",
   "name": "python",
   "nbconvert_exporter": "python",
   "pygments_lexer": "ipython3",
   "version": "3.5.2"
  }
 },
 "nbformat": 4,
 "nbformat_minor": 2
}
