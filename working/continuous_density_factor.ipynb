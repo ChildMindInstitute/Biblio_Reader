{
 "cells": [
  {
   "cell_type": "markdown",
   "metadata": {},
   "source": [
    "Setup"
   ]
  },
  {
   "cell_type": "code",
   "execution_count": 1,
   "metadata": {
    "collapsed": true
   },
   "outputs": [],
   "source": [
    "%load_ext autoreload\n",
    "%autoreload 2"
   ]
  },
  {
   "cell_type": "code",
   "execution_count": 56,
   "metadata": {},
   "outputs": [],
   "source": [
    "from datetime import date\n",
    "import numpy as np\n",
    "import os\n",
    "import pandas as pd\n",
    "import sys\n",
    "ancestor = os.path.abspath(os.path.join(os.pardir, os.pardir))\n",
    "if ancestor not in sys.path:\n",
    "    sys.path.append(ancestor)\n",
    "from Biblio_Reader import manager as mg\n",
    "ddir = os.path.join(ancestor, \"Biblio_Reader\", \"biblio_reader\", \"data\")\n",
    "\n",
    "\n",
    "def dfile(d):\n",
    "    \"\"\"\n",
    "    Function to read a named csv file in ddir.\n",
    "    \n",
    "    Parameter\n",
    "    ---------\n",
    "    d : string\n",
    "        filename\n",
    "    \n",
    "    Returns\n",
    "    -------\n",
    "    ddf : DataFrame\n",
    "    \"\"\"\n",
    "    ddf = pd.read_csv(\n",
    "        os.path.join(ddir, d),\n",
    "        header=None,\n",
    "        names=[\"CiteScore\", \"cumulative_count\"]\n",
    "        ).sort_values(\n",
    "        by=\"cumulative_count\",\n",
    "        ascending=True\n",
    "        ).reset_index(\n",
    "        drop=True\n",
    "        )\n",
    "    ddf[\" - diff = \"] = pd.Series(\n",
    "            [\n",
    "                0,\n",
    "                *list(ddf[\"cumulative_count\"])[:-1]\n",
    "            ]\n",
    "        )\n",
    "    ddf[\"count\"] = ddf[\"cumulative_count\"].subtract(\n",
    "        ddf[\" - diff = \"]\n",
    "    )\n",
    "    return(ddf)\n",
    "\n",
    "\n",
    "abide = dfile(\"Expanded_ABIDE_CDF_Jon.csv\")\n",
    "no_abide = dfile(\"Expanded_NON_ABIDE_CDF_Jon.csv\")\n",
    "hcp = dfile(\"HCP_Inv_Jon.csv\")\n",
    "no_hcp = dfile(\"HCP_No_Inv_Jon.csv\")\n",
    "\n",
    "\n",
    "def cdf_weighted(data, column, value):\n",
    "    \"\"\"\n",
    "    Given a DataFrame, a column name, and a value in that column,\n",
    "    returns a single weighted CiteScore value.\n",
    "    \n",
    "    Parameters\n",
    "    ----------\n",
    "    data : DataFrame\n",
    "        needs \"Journal\" column\n",
    "       \n",
    "    column : string\n",
    "        column to filter\n",
    "       \n",
    "    value : any dtype\n",
    "        value in `column` to get value for\n",
    "        \n",
    "    Returns\n",
    "    -------\n",
    "    cdfw : float\n",
    "        ∑CiteScore/n\n",
    "    \"\"\"\n",
    "    j = mg.get_journal_attrs()\n",
    "    l = [str(journal_name).lower() for journal_name in data.loc[data[column] == value][\"Journal\"]]\n",
    "    citescores = [float(j[k][\"CiteScore\"]) for k in l if k in j and len(j[k][\"CiteScore\"])]\n",
    "    return(float(\"%.2f\" %round(np.mean(citescores), 2)))\n",
    "\n",
    "\n",
    "def cdf_weighted_from_count(data):\n",
    "    \"\"\"\n",
    "    Given a DataFrame with a CiteScore column and a count column\n",
    "    returns a single weighted CiteScore value.\n",
    "    \n",
    "    Parameter\n",
    "    ---------\n",
    "    data : DataFrame\n",
    "        \n",
    "    Returns\n",
    "    -------\n",
    "    cdfw : float\n",
    "        ∑CiteScore/n\n",
    "    \"\"\"\n",
    "    return(float(\"%.2f\" %round(\n",
    "        np.sum(data[\"count\"] * data[\"CiteScore\"])/np.sum(data[\"count\"]),\n",
    "        2))\n",
    "    )"
   ]
  },
  {
   "cell_type": "code",
   "execution_count": 65,
   "metadata": {
    "scrolled": true
   },
   "outputs": [
    {
     "data": {
      "text/html": [
       "<div>\n",
       "<table border=\"1\" class=\"dataframe\">\n",
       "  <thead>\n",
       "    <tr style=\"text-align: right;\">\n",
       "      <th></th>\n",
       "      <th>weighted</th>\n",
       "    </tr>\n",
       "  </thead>\n",
       "  <tbody>\n",
       "    <tr>\n",
       "      <th>Non-ABIDE data use</th>\n",
       "      <td>4.24</td>\n",
       "    </tr>\n",
       "    <tr>\n",
       "      <th>ABIDE data use</th>\n",
       "      <td>4.59</td>\n",
       "    </tr>\n",
       "    <tr>\n",
       "      <th>HCP contributors</th>\n",
       "      <td>6.84</td>\n",
       "    </tr>\n",
       "    <tr>\n",
       "      <th>HCP non-contributors</th>\n",
       "      <td>4.59</td>\n",
       "    </tr>\n",
       "  </tbody>\n",
       "</table>\n",
       "</div>"
      ],
      "text/plain": [
       "                      weighted\n",
       "Non-ABIDE data use        4.24\n",
       "ABIDE data use            4.59\n",
       "HCP contributors          6.84\n",
       "HCP non-contributors      4.59"
      ]
     },
     "execution_count": 65,
     "metadata": {},
     "output_type": "execute_result"
    }
   ],
   "source": [
    "td = {\n",
    "    \"ABIDE data use\": abide,\n",
    "    \"Non-ABIDE data use\": no_abide,\n",
    "    \"HCP contributors\": hcp,\n",
    "    \"HCP non-contributors\": no_hcp\n",
    "    }\n",
    "\n",
    "df = pd.DataFrame.from_dict(\n",
    "    {k: cdf_weighted_from_count(td[k]) for k in td},\n",
    "    orient = \"index\"\n",
    ")\n",
    "\n",
    "df.columns=[\"weighted\"]\n",
    "\n",
    "df"
   ]
  },
  {
   "cell_type": "markdown",
   "metadata": {},
   "source": [
    "# Contributor:"
   ]
  },
  {
   "cell_type": "code",
   "execution_count": 3,
   "metadata": {},
   "outputs": [
    {
     "data": {
      "text/plain": [
       "5.45"
      ]
     },
     "execution_count": 3,
     "metadata": {},
     "output_type": "execute_result"
    }
   ],
   "source": [
    "cdf_weighted(existing, \"Contributor\", \"Contributor\")"
   ]
  },
  {
   "cell_type": "markdown",
   "metadata": {},
   "source": [
    "# Non-contributor:"
   ]
  },
  {
   "cell_type": "code",
   "execution_count": 4,
   "metadata": {},
   "outputs": [
    {
     "data": {
      "text/plain": [
       "4.96"
      ]
     },
     "execution_count": 4,
     "metadata": {},
     "output_type": "execute_result"
    }
   ],
   "source": [
    "cdf_weighted(existing, \"Contributor\", \"Not a Contributor\")"
   ]
  },
  {
   "cell_type": "markdown",
   "metadata": {},
   "source": [
    "# ABIDE data use:"
   ]
  },
  {
   "cell_type": "code",
   "execution_count": 5,
   "metadata": {},
   "outputs": [
    {
     "data": {
      "text/plain": [
       "4.82"
      ]
     },
     "execution_count": 5,
     "metadata": {},
     "output_type": "execute_result"
    }
   ],
   "source": [
    "cdf_weighted(withsets.loc[withsets.Sets.str.contains(\"ABIDE\")], \"Data Use\", \"Y\")"
   ]
  },
  {
   "cell_type": "markdown",
   "metadata": {},
   "source": [
    "# Non-ABIDE data use:"
   ]
  },
  {
   "cell_type": "code",
   "execution_count": 6,
   "metadata": {},
   "outputs": [
    {
     "data": {
      "text/plain": [
       "4.6"
      ]
     },
     "execution_count": 6,
     "metadata": {},
     "output_type": "execute_result"
    }
   ],
   "source": [
    "cdf_weighted(withsets.loc[~withsets.Sets.str.contains(\"ABIDE\")], \"Data Use\", \"Y\")"
   ]
  }
 ],
 "metadata": {
  "kernelspec": {
   "display_name": "Python [default]",
   "language": "python",
   "name": "python3"
  },
  "language_info": {
   "codemirror_mode": {
    "name": "ipython",
    "version": 3
   },
   "file_extension": ".py",
   "mimetype": "text/x-python",
   "name": "python",
   "nbconvert_exporter": "python",
   "pygments_lexer": "ipython3",
   "version": "3.5.2"
  }
 },
 "nbformat": 4,
 "nbformat_minor": 2
}
